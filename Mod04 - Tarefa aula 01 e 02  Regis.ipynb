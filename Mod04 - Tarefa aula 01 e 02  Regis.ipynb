{
 "cells": [
  {
   "cell_type": "markdown",
   "metadata": {},
   "source": [
    "# Tarefa 01\n",
    "\n",
    "- Leia os enunciados com atenção\n",
    "- Saiba que pode haver mais de uma resposta correta\n",
    "- Insira novas células de código sempre que achar necessário\n",
    "- Em caso de dúvidas, procure os tutores\n",
    "- Divirta-se :)\n",
    "\n",
    "#### 1)  crie uma série do pandas a partir de uma lista com os dados abaixo:\n",
    "\n",
    "Em um estudo sobre alteração na tempreatura global, A NASA disponibiliza dados de diferenças de de temperatura média da superfície terrestre relativos às médias de temperatura entre 1951 e 1980. Os dados originais podem ser vistos no site da NASA/GISS, e estão dispostos a cada década na tabela abaixo.\n",
    "\n",
    "|ano|anomalia termica|\n",
    "|:-:|:----:|\n",
    "| 1900 | -0.08 |\n",
    "| 1920 | -0.27 |\n",
    "| 1940 | 0.12 |\n",
    "| 1960 | -0.03 |\n",
    "| 1980 | 0.26 |\n",
    "| 2000 | 0.40 |\n",
    "| 2020 | 1.02 |\n",
    "\n",
    "Crie uma séries do Pandas a partir de uma lista com esses dados."
   ]
  },
  {
   "cell_type": "code",
   "execution_count": 1,
   "metadata": {
    "tags": []
   },
   "outputs": [],
   "source": [
    "import pandas as pd\n",
    "import numpy as np\n",
    "\n",
    "# Seu código aqui"
   ]
  },
  {
   "cell_type": "markdown",
   "metadata": {},
   "source": [
    "#### 2) Coloque os anos nos índices conforme a tabela."
   ]
  },
  {
   "cell_type": "code",
   "execution_count": 3,
   "metadata": {
    "tags": []
   },
   "outputs": [],
   "source": [
    "\n",
    "# seu código aqui\n",
    "dados = [\n",
    "    (1900, 0.08),\n",
    "    (1920, 0.27),\n",
    "    (1940, 0.12),\n",
    "    (1960, 0.03),\n",
    "    (1980, 0.26),\n",
    "    (2000, 0.40),\n",
    "    (2020, 1.02),\n",
    "]"
   ]
  },
  {
   "cell_type": "code",
   "execution_count": 17,
   "metadata": {
    "tags": []
   },
   "outputs": [
    {
     "name": "stdout",
     "output_type": "stream",
     "text": [
      "0    1900\n",
      "1    1920\n",
      "2    1940\n",
      "3    1960\n",
      "4    1980\n",
      "5    2000\n",
      "6    2020\n",
      "Name: ano, dtype: int64\n"
     ]
    }
   ],
   "source": [
    "ano = pd.Series ([1900, 1920, 1940, 1960, 1980, 2000, 2020], name=\"ano\")\n",
    "\n",
    "print(ano)"
   ]
  },
  {
   "cell_type": "code",
   "execution_count": 19,
   "metadata": {
    "tags": []
   },
   "outputs": [
    {
     "name": "stdout",
     "output_type": "stream",
     "text": [
      "0    0.08\n",
      "1    0.27\n",
      "2    0.12\n",
      "3    0.03\n",
      "4    0.26\n",
      "5    0.40\n",
      "6    1.02\n",
      "Name: anomalia_termica, dtype: float64\n"
     ]
    }
   ],
   "source": [
    "anomalia_termica = pd.Series([0.08, 0.27, 0.12, 0.03, 0.26, 0.40, 1.02], name=\"anomalia_termica\")\n",
    "\n",
    "print(anomalia_termica)"
   ]
  },
  {
   "cell_type": "markdown",
   "metadata": {},
   "source": [
    "#### 3) A partir do dicionário abaixo, crie uma séries do Pandas:"
   ]
  },
  {
   "cell_type": "code",
   "execution_count": 67,
   "metadata": {
    "tags": []
   },
   "outputs": [
    {
     "name": "stdout",
     "output_type": "stream",
     "text": [
      "ano    [1900, 1920, 1940, 1960, 1980, 2000, 2020]\n",
      "dtype: object\n",
      "temperatura    [-0.08, -0.27, 0.12, -0.03, 0.26, 0.4, 1.02]\n",
      "dtype: object\n"
     ]
    }
   ],
   "source": [
    "dic_temperaturas = {1900: -.08, 1920: -.27, 1940: .12, 1960: -.03, 1980: .26, 2000: .40, 2020: 1.02}\n",
    "\n",
    "# seu código aqui\n",
    "dic2 = pd.Series({\"ano\":[1900, 1920, 1940, 1960, 1980, 2000, 2020]})\n",
    "temp = pd.Series({\"temperatura\":[-.08, -.27, .12, -.03, .26, .40, 1.02]})\n",
    "\n",
    "print(dic2)\n",
    "print (temp)"
   ]
  },
  {
   "cell_type": "markdown",
   "metadata": {},
   "source": [
    "#### 4) Transforme o ndarray abaixo em um dataframe. \n",
    "O numpy é capaz de gerar arrays n-dimensionais com números pseudo-aleatórios de acordo com uma variedade de distribuições, como no exemplo abaixo. Transforme esse nd-array em um DataFrame."
   ]
  },
  {
   "cell_type": "code",
   "execution_count": 106,
   "metadata": {
    "tags": []
   },
   "outputs": [
    {
     "name": "stdout",
     "output_type": "stream",
     "text": [
      "            x1          x2          x3\n",
      "0   103.112285  122.000509   94.612672\n",
      "1   128.069834  105.273140  111.756243\n",
      "2    92.803051   97.979686  101.492737\n",
      "3   109.205988   90.414978   80.942009\n",
      "4    92.879804   96.492503  112.805395\n",
      "5    85.651039  112.189545   85.140132\n",
      "6    90.643402  101.652910  100.969061\n",
      "7    97.907980   92.478375   97.391282\n",
      "8   109.002245  101.347639  112.175695\n",
      "9   105.844283   90.266934   86.477087\n",
      "10  104.494401   77.103045  102.329793\n",
      "11  109.523772  106.191361  112.093464\n",
      "12  107.908858   96.264030  107.532787\n",
      "13  113.824153   96.356760  116.720450\n",
      "14   90.180058  101.601484  103.921511\n",
      "15   85.018234   95.035058  115.073366\n",
      "16   81.934057   85.087977   95.019699\n",
      "17   99.790067  107.167610   95.396588\n",
      "18  103.318624   86.422077  115.374959\n",
      "19  129.269754   99.781991  114.171274\n"
     ]
    }
   ],
   "source": [
    "arr = np.random.normal(100, 10, (20,3))\n",
    "\n",
    "# seu código aqui\n",
    "df = pd.DataFrame(arr, columns=[\"x1\", \"x2\", \"x3\"])\n",
    "\n",
    "\n",
    "print(df)"
   ]
  },
  {
   "cell_type": "markdown",
   "metadata": {},
   "source": [
    "#### 5) Nomeie os índices das linhas com inteiros de 1 a 20, e as colunas com os nomes \"x1\", \"x2\", e \"x3\" respectivamente."
   ]
  },
  {
   "cell_type": "code",
   "execution_count": 108,
   "metadata": {
    "tags": []
   },
   "outputs": [
    {
     "name": "stdout",
     "output_type": "stream",
     "text": [
      "            x1          x2          x3\n",
      "1   103.112285  122.000509   94.612672\n",
      "2   128.069834  105.273140  111.756243\n",
      "3    92.803051   97.979686  101.492737\n",
      "4   109.205988   90.414978   80.942009\n",
      "5    92.879804   96.492503  112.805395\n",
      "6    85.651039  112.189545   85.140132\n",
      "7    90.643402  101.652910  100.969061\n",
      "8    97.907980   92.478375   97.391282\n",
      "9   109.002245  101.347639  112.175695\n",
      "10  105.844283   90.266934   86.477087\n",
      "11  104.494401   77.103045  102.329793\n",
      "12  109.523772  106.191361  112.093464\n",
      "13  107.908858   96.264030  107.532787\n",
      "14  113.824153   96.356760  116.720450\n",
      "15   90.180058  101.601484  103.921511\n",
      "16   85.018234   95.035058  115.073366\n",
      "17   81.934057   85.087977   95.019699\n",
      "18   99.790067  107.167610   95.396588\n",
      "19  103.318624   86.422077  115.374959\n",
      "20  129.269754   99.781991  114.171274\n"
     ]
    }
   ],
   "source": [
    "#seu código aqui\n",
    "df.index = range(1, 21)\n",
    "print(df)"
   ]
  },
  {
   "cell_type": "markdown",
   "metadata": {},
   "source": [
    "#### 6) No DataFrame do exercício 5, crie uma nova coluna como sendo a média das três colunas, e dê a ela o nome de \"media\" (não recomendo colocar acentos em nomes de variáveis)."
   ]
  },
  {
   "cell_type": "code",
   "execution_count": 114,
   "metadata": {
    "tags": []
   },
   "outputs": [
    {
     "name": "stdout",
     "output_type": "stream",
     "text": [
      "            x1          x2          x3       media\n",
      "1   103.112285  122.000509   94.612672  106.575155\n",
      "2   128.069834  105.273140  111.756243  115.033073\n",
      "3    92.803051   97.979686  101.492737   97.425158\n",
      "4   109.205988   90.414978   80.942009   93.520991\n",
      "5    92.879804   96.492503  112.805395  100.725901\n",
      "6    85.651039  112.189545   85.140132   94.326905\n",
      "7    90.643402  101.652910  100.969061   97.755125\n",
      "8    97.907980   92.478375   97.391282   95.925879\n",
      "9   109.002245  101.347639  112.175695  107.508526\n",
      "10  105.844283   90.266934   86.477087   94.196101\n",
      "11  104.494401   77.103045  102.329793   94.642413\n",
      "12  109.523772  106.191361  112.093464  109.269533\n",
      "13  107.908858   96.264030  107.532787  103.901892\n",
      "14  113.824153   96.356760  116.720450  108.967121\n",
      "15   90.180058  101.601484  103.921511   98.567684\n",
      "16   85.018234   95.035058  115.073366   98.375553\n",
      "17   81.934057   85.087977   95.019699   87.347245\n",
      "18   99.790067  107.167610   95.396588  100.784755\n",
      "19  103.318624   86.422077  115.374959  101.705220\n",
      "20  129.269754   99.781991  114.171274  114.407673\n"
     ]
    }
   ],
   "source": [
    "# seu código aqui\n",
    "df[\"media\"] = df.mean(axis=1)\n",
    "\n",
    "print(df)\n"
   ]
  },
  {
   "cell_type": "markdown",
   "metadata": {},
   "source": [
    "#### 7) No DataFrame do exercício 6, crie uma nova coluna chamada \"log_med\", contendo o logaritmo natural da média calculada no exercício 6 <br>"
   ]
  },
  {
   "cell_type": "code",
   "execution_count": 116,
   "metadata": {
    "tags": []
   },
   "outputs": [
    {
     "name": "stdout",
     "output_type": "stream",
     "text": [
      "            x1          x2          x3       media   log_med\n",
      "1   103.112285  122.000509   94.612672  106.575155  4.668850\n",
      "2   128.069834  105.273140  111.756243  115.033073  4.745220\n",
      "3    92.803051   97.979686  101.492737   97.425158  4.579084\n",
      "4   109.205988   90.414978   80.942009   93.520991  4.538186\n",
      "5    92.879804   96.492503  112.805395  100.725901  4.612403\n",
      "6    85.651039  112.189545   85.140132   94.326905  4.546766\n",
      "7    90.643402  101.652910  100.969061   97.755125  4.582466\n",
      "8    97.907980   92.478375   97.391282   95.925879  4.563576\n",
      "9   109.002245  101.347639  112.175695  107.508526  4.677570\n",
      "10  105.844283   90.266934   86.477087   94.196101  4.545379\n",
      "11  104.494401   77.103045  102.329793   94.642413  4.550106\n",
      "12  109.523772  106.191361  112.093464  109.269533  4.693818\n",
      "13  107.908858   96.264030  107.532787  103.901892  4.643447\n",
      "14  113.824153   96.356760  116.720450  108.967121  4.691046\n",
      "15   90.180058  101.601484  103.921511   98.567684  4.590743\n",
      "16   85.018234   95.035058  115.073366   98.375553  4.588792\n",
      "17   81.934057   85.087977   95.019699   87.347245  4.469891\n",
      "18   99.790067  107.167610   95.396588  100.784755  4.612987\n",
      "19  103.318624   86.422077  115.374959  101.705220  4.622079\n",
      "20  129.269754   99.781991  114.171274  114.407673  4.739768\n"
     ]
    }
   ],
   "source": [
    "# seu código aqui\n",
    "\n",
    "df[\"log_med\"] = np.log(df[\"media\"])\n",
    "\n",
    "print(df)"
   ]
  },
  {
   "cell_type": "code",
   "execution_count": null,
   "metadata": {},
   "outputs": [],
   "source": []
  }
 ],
 "metadata": {
  "kernelspec": {
   "display_name": "Python 3 (ipykernel)",
   "language": "python",
   "name": "python3"
  },
  "language_info": {
   "codemirror_mode": {
    "name": "ipython",
    "version": 3
   },
   "file_extension": ".py",
   "mimetype": "text/x-python",
   "name": "python",
   "nbconvert_exporter": "python",
   "pygments_lexer": "ipython3",
   "version": "3.11.5"
  }
 },
 "nbformat": 4,
 "nbformat_minor": 4
}
